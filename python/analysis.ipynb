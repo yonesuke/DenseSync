{
 "cells": [
  {
   "cell_type": "code",
   "execution_count": 10,
   "id": "indirect-masters",
   "metadata": {},
   "outputs": [],
   "source": [
    "import numpy as np\n",
    "import pandas as pd\n",
    "import matplotlib\n",
    "import matplotlib.pyplot as plt\n",
    "\n",
    "matplotlib.rc('text', usetex=True)\n",
    "plt.rcParams[\"font.size\"] = 20"
   ]
  },
  {
   "cell_type": "markdown",
   "id": "superior-antibody",
   "metadata": {},
   "source": [
    "## 1. Loading data\n",
    "\n",
    "Please run the `python solve_ip.py` in advance."
   ]
  },
  {
   "cell_type": "code",
   "execution_count": 43,
   "id": "regional-prague",
   "metadata": {},
   "outputs": [
    {
     "data": {
      "text/html": [
       "<div>\n",
       "<style scoped>\n",
       "    .dataframe tbody tr th:only-of-type {\n",
       "        vertical-align: middle;\n",
       "    }\n",
       "\n",
       "    .dataframe tbody tr th {\n",
       "        vertical-align: top;\n",
       "    }\n",
       "\n",
       "    .dataframe thead th {\n",
       "        text-align: right;\n",
       "    }\n",
       "</style>\n",
       "<table border=\"1\" class=\"dataframe\">\n",
       "  <thead>\n",
       "    <tr style=\"text-align: right;\">\n",
       "      <th></th>\n",
       "      <th>N</th>\n",
       "      <th>p</th>\n",
       "      <th>r</th>\n",
       "    </tr>\n",
       "  </thead>\n",
       "  <tbody>\n",
       "    <tr>\n",
       "      <th>0</th>\n",
       "      <td>2</td>\n",
       "      <td>1</td>\n",
       "      <td>0.000000</td>\n",
       "    </tr>\n",
       "    <tr>\n",
       "      <th>1</th>\n",
       "      <td>3</td>\n",
       "      <td>1</td>\n",
       "      <td>0.000000</td>\n",
       "    </tr>\n",
       "    <tr>\n",
       "      <th>2</th>\n",
       "      <td>3</td>\n",
       "      <td>2</td>\n",
       "      <td>0.000000</td>\n",
       "    </tr>\n",
       "    <tr>\n",
       "      <th>3</th>\n",
       "      <td>4</td>\n",
       "      <td>1</td>\n",
       "      <td>0.666667</td>\n",
       "    </tr>\n",
       "    <tr>\n",
       "      <th>4</th>\n",
       "      <td>4</td>\n",
       "      <td>2</td>\n",
       "      <td>0.333333</td>\n",
       "    </tr>\n",
       "  </tbody>\n",
       "</table>\n",
       "</div>"
      ],
      "text/plain": [
       "   N  p         r\n",
       "0  2  1  0.000000\n",
       "1  3  1  0.000000\n",
       "2  3  2  0.000000\n",
       "3  4  1  0.666667\n",
       "4  4  2  0.333333"
      ]
     },
     "execution_count": 43,
     "metadata": {},
     "output_type": "execute_result"
    }
   ],
   "source": [
    "df = pd.read_csv('./results/results.csv', header=0)\n",
    "df.head(5)"
   ]
  },
  {
   "cell_type": "markdown",
   "id": "saving-ontario",
   "metadata": {},
   "source": [
    "## 2 Plotting Figure 1."
   ]
  },
  {
   "cell_type": "code",
   "execution_count": 48,
   "id": "annoying-arbor",
   "metadata": {},
   "outputs": [
    {
     "data": {
      "image/png": "[encoded data removed]",
      "text/plain": [
       "<Figure size 864x576 with 1 Axes>"
      ]
     },
     "metadata": {
      "needs_background": "light"
     },
     "output_type": "display_data"
    }
   ],
   "source": [
    "pre_lower_bound = 1277 / 1870\n",
    "\n",
    "fig, ax = plt.subplots(figsize=(12, 8))\n",
    "\n",
    "# df.plot.scatter('N', 'r', c='p', colormap='viridis', ax=ax, s=6)\n",
    "df.plot.scatter('N', 'r', ax=ax, s=8)\n",
    "\n",
    "ax.plot([0, df['N'].max()], [pre_lower_bound, pre_lower_bound], '--', c='k', label=r'Previous lower bound of $\\mu_c$')\n",
    "\n",
    "ax.set_ylim([0.62, 0.687])\n",
    "ax.set_xlim([5, df['N'].max()])\n",
    "ax.set_xlabel(r'$N$')\n",
    "ax.set_ylabel(r'$\\max_{1\\leq p \\leq \\lfloor N/2 \\rfloor \\\\}{\\mu^{(N, p)}}$')\n",
    "ax.legend(bbox_to_anchor=(1, 0), loc='lower right', borderaxespad=1)\n",
    "\n",
    "fig.savefig('output_true.png')"
   ]
  }
 ],
 "metadata": {
  "kernelspec": {
   "display_name": "Python 3",
   "language": "python",
   "name": "python3"
  },
  "language_info": {
   "codemirror_mode": {
    "name": "ipython",
    "version": 3
   },
   "file_extension": ".py",
   "mimetype": "text/x-python",
   "name": "python",
   "nbconvert_exporter": "python",
   "pygments_lexer": "ipython3",
   "version": "3.8.2"
  }
 },
 "nbformat": 4,
 "nbformat_minor": 5
}
